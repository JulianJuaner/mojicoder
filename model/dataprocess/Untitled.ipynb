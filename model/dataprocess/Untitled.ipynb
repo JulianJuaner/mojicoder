{
 "cells": [
  {
   "cell_type": "code",
   "execution_count": 41,
   "metadata": {},
   "outputs": [],
   "source": [
    "import csv\n",
    "import numpy as np\n",
    "import pandas as pd\n",
    "import copy\n",
    "from PIL import Image\n",
    "csvDF = pd.read_csv('../../dataset/fer2013/fer2013.csv')"
   ]
  },
  {
   "cell_type": "code",
   "execution_count": 40,
   "metadata": {},
   "outputs": [
    {
     "name": "stdout",
     "output_type": "stream",
     "text": [
      "[[ 70  80  82 ...,  52  43  41]\n",
      " [ 65  61  58 ...,  56  52  44]\n",
      " [ 50  43  54 ...,  49  56  47]\n",
      " ..., \n",
      " [ 91  65  42 ...,  72  56  43]\n",
      " [ 77  82  79 ..., 105  70  46]\n",
      " [ 77  72  84 ..., 106 109  82]]\n"
     ]
    }
   ],
   "source": [
    "#print(csvDF['pixels'][0])\n",
    "def save(A, path):\n",
    "    another = np.zeros(truesize)\n",
    "    for m in range(len(A)):\n",
    "        for n in range(len(A[0])):\n",
    "            for k in range(3):\n",
    "                another[m][n][k] = A[m][n]\n",
    "    im = Image.fromarray(A).convert('RGB')\n",
    "    im.save(path)\n",
    "size = (48, 48)\n",
    "truesize = (48, 48, 3)\n",
    "\n",
    "m = np.asarray(csvDF['pixels'][0].split(' ')).astype('int')\n",
    "m = np.reshape(m, size)\n",
    "save(m, \"aaa.jpg\")\n",
    "#print(m)"
   ]
  },
  {
   "cell_type": "code",
   "execution_count": 63,
   "metadata": {},
   "outputs": [
    {
     "name": "stdout",
     "output_type": "stream",
     "text": [
      "efg\n"
     ]
    }
   ],
   "source": [
    "from shutil import copyfile\n",
    "import os\n",
    "path = 'abcdefg1234'\n",
    "print(path[-7:-4])\n",
    "def FromNametoLabel(path):\n",
    "    #print(path[-6:-4])\n",
    "    if path[-6:-4] != 'FL' and path[-6:-4] != 'FR':\n",
    "        #print(path[-6:-4])\n",
    "        newpath = '../../dataset/KDEF_AND_AKDEF/FERdata/' + os.path.basename(path)\n",
    "        copyfile(path, newpath)\n",
    "        \n",
    "path = '../../dataset/KDEF_AND_AKDEF/KDEF'\n",
    "for subdir in os.listdir('../../dataset/KDEF_AND_AKDEF/KDEF'):\n",
    "    subdir = path + '/' + subdir\n",
    "    for file in os.listdir(subdir):\n",
    "        if file.find('.JPG') != -1:\n",
    "            FromNametoLabel(subdir + '/' + file)"
   ]
  },
  {
   "cell_type": "code",
   "execution_count": null,
   "metadata": {},
   "outputs": [],
   "source": []
  }
 ],
 "metadata": {
  "kernelspec": {
   "display_name": "Python 3",
   "language": "python",
   "name": "python3"
  },
  "language_info": {
   "codemirror_mode": {
    "name": "ipython",
    "version": 3
   },
   "file_extension": ".py",
   "mimetype": "text/x-python",
   "name": "python",
   "nbconvert_exporter": "python",
   "pygments_lexer": "ipython3",
   "version": "3.6.4"
  }
 },
 "nbformat": 4,
 "nbformat_minor": 2
}
